{
 "cells": [
  {
   "cell_type": "markdown",
   "id": "ec959986",
   "metadata": {},
   "source": [
    "# Welcome to Crypto Advisor!! "
   ]
  },
  {
   "cell_type": "markdown",
   "id": "03505f42",
   "metadata": {},
   "source": [
    "#### Our aim here is to see how well your investment will perform should you invest in the top 3 cryptocurrencies in the market! \n",
    "####"
   ]
  },
  {
   "cell_type": "code",
   "execution_count": null,
   "id": "4633d4ff",
   "metadata": {},
   "outputs": [],
   "source": [
    "welcome_name = input(\"𝖶𝖾𝗅𝖼𝗈𝗆𝖾 𝗍𝗈 𝖢𝗋𝗒𝗉𝗍𝗈 𝖠𝖽𝗏𝗂𝗌𝗈𝗋!𝗐𝗁𝖺𝗍'𝗌 𝗒𝗈𝗎𝗋 𝗇𝖺𝗆𝖾?\")"
   ]
  },
  {
   "cell_type": "code",
   "execution_count": null,
   "id": "9fc11a13",
   "metadata": {},
   "outputs": [],
   "source": [
    "print(\"\\033[1m\"f\"𝖧𝖾𝗅𝗅𝗈, {welcome_name}\"\"\\033[1m\")"
   ]
  },
  {
   "cell_type": "code",
   "execution_count": null,
   "id": "5d6f7d7b",
   "metadata": {},
   "outputs": [],
   "source": [
    "investment = 0\n",
    "\n",
    "while investment < 5000:\n",
    "    try:\n",
    "        investment = int(input(\"How much are you thinking of investment?\"))\n",
    "        if investment < 5000:\n",
    "            print(\"I'm sorry you don't have enough to get started, our minimum requirement is $5,000\")\n",
    "        elif investment >= 5000:\n",
    "            print(\"Sounds good\")\n",
    "    except:\n",
    "        investment = int(input(\"You didn't put an amount we recognised, how much again?\"))\n",
    "        print(\"Sounds good\") "
   ]
  },
  {
   "cell_type": "code",
   "execution_count": null,
   "id": "b579ff73",
   "metadata": {},
   "outputs": [],
   "source": [
    "coin_prompt = ''\n",
    "output = 0\n",
    "output_2 = 0\n",
    "output_3 = 0\n",
    "while coin_prompt not in ['bitcoin','Bitcoin', 'BTC','ethereum', 'Ethereum', 'ETH','Cardano', 'cardano', 'ADA']:\n",
    "    coin_prompt = input(\"Great, which cryptocurrency would you like to invest in?\")\n",
    "    try:\n",
    "        if coin_prompt in ['bitcoin','Bitcoin', 'BTC']:\n",
    "            output = input(\"Awesome! how much are you looking to invest in Bitcoin?\")\n",
    "            print(output)\n",
    "        elif coin_prompt in ['ethereum', 'Ethereum', 'ETH']:\n",
    "            output_2 = input(\"Awesome! how much are you looking to invest in Ethereum?\")\n",
    "            print(output_2)\n",
    "        elif coin_prompt in ['Cardano', 'cardano', 'ADA']:\n",
    "            output_3 = input(\"Awesome! how much are you looking to invest in Cardano?\")\n",
    "            print(output_3)\n",
    "        else: \n",
    "            print(\"please go away\")\n",
    "    except:\n",
    "        print('Choose the currency again:')"
   ]
  },
  {
   "cell_type": "code",
   "execution_count": null,
   "id": "1538ec96",
   "metadata": {},
   "outputs": [],
   "source": [
    "value = int(output) | int(output_2) | int(output_3)"
   ]
  },
  {
   "cell_type": "code",
   "execution_count": null,
   "id": "7a3acdea",
   "metadata": {},
   "outputs": [],
   "source": [
    "if value == investment: \n",
    "    print(\"Let's see how your savings will perform\")\n",
    "elif value < investment: \n",
    "    remainder_prompt = int((investment) - int(value))\n",
    "    answer = str(input(f\"You'll have a remainder of {remainder_prompt}, are you think of investing this in another coin? Y/N\"))\n",
    "else:\n",
    "    print(f\"The maximum you can invest is {investment}, let's see how this will perform\")"
   ]
  },
  {
   "cell_type": "code",
   "execution_count": null,
   "id": "a59ab6cd",
   "metadata": {},
   "outputs": [],
   "source": [
    "if answer == 'Y':\n",
    "    select_coin = input(\"Which coin?\")\n",
    "    remainder_value = print(f\"Okay, {remainder_prompt} has been put into {select_coin}.\")\n",
    "else:\n",
    "    answer == 'N'\n",
    "    print(f\"No worries, let's move on.\")\n",
    "\n",
    "#total invested amt in code below\n",
    "\n",
    "if answer == 'N':\n",
    "    invested_amt = value\n",
    "    \n",
    "else:\n",
    "    invested_amt = investment"
   ]
  },
  {
   "cell_type": "code",
   "execution_count": null,
   "id": "eb42856c",
   "metadata": {},
   "outputs": [],
   "source": [
    "import os\n",
    "import requests\n",
    "import pandas as pd\n",
    "from dotenv import load_dotenv\n",
    "from MCForecastTools import MCSimulation\n",
    "import cryptocompare as cryptoapi \n",
    "\n",
    "%matplotlib inline"
   ]
  },
  {
   "cell_type": "code",
   "execution_count": null,
   "id": "2a5abe16",
   "metadata": {},
   "outputs": [],
   "source": [
    "btc_url = \"https://min-api.cryptocompare.com/data/v2/histoday?fsym=BTC&tsym=USD&limit=1095\"\n",
    "eth_url = \"https://min-api.cryptocompare.com/data/v2/histoday?fsym=ETH&tsym=USD&limit=1095\"\n",
    "ada_url = \"https://min-api.cryptocompare.com/data/v2/histoday?fsym=ADA&tsym=USD&limit=1095\"\n",
    "btc_data = requests.get(btc_url).json()\n",
    "eth_data = requests.get(eth_url).json() \n",
    "ada_data = requests.get(ada_url).json() "
   ]
  },
  {
   "cell_type": "code",
   "execution_count": null,
   "id": "3f3c6d81",
   "metadata": {},
   "outputs": [],
   "source": [
    "import json"
   ]
  },
  {
   "cell_type": "code",
   "execution_count": null,
   "id": "1af078c0",
   "metadata": {},
   "outputs": [],
   "source": [
    "btc_s0= []\n",
    "date = []\n",
    "for price in range(0,len(btc_data['Data']['Data'])):\n",
    "    temp= btc_data['Data']['Data'][price]['close']\n",
    "    temp_date = btc_data['Data']['Data'][price]['time']\n",
    "    btc_s0.append(temp)\n",
    "    date.append(temp_date)"
   ]
  },
  {
   "cell_type": "code",
   "execution_count": null,
   "id": "a615e458",
   "metadata": {},
   "outputs": [],
   "source": [
    "eth_s0= []\n",
    "date = []\n",
    "for price in range(0,len(eth_data['Data']['Data'])):\n",
    "    temp= eth_data['Data']['Data'][price]['close']\n",
    "    temp_date = eth_data['Data']['Data'][price]['time']\n",
    "    eth_s0.append(temp)\n",
    "    date.append(temp_date)"
   ]
  },
  {
   "cell_type": "code",
   "execution_count": null,
   "id": "13ecee8a",
   "metadata": {},
   "outputs": [],
   "source": [
    "ada_s0= []\n",
    "date = []\n",
    "for price in range(0,len(ada_data['Data']['Data'])):\n",
    "    temp= ada_data['Data']['Data'][price]['close']\n",
    "    temp_date = ada_data['Data']['Data'][price]['time']\n",
    "    ada_s0.append(temp)\n",
    "    date.append(temp_date)"
   ]
  },
  {
   "cell_type": "code",
   "execution_count": null,
   "id": "be12c6d0",
   "metadata": {},
   "outputs": [],
   "source": [
    "import datetime"
   ]
  },
  {
   "cell_type": "code",
   "execution_count": null,
   "id": "245d09a8",
   "metadata": {},
   "outputs": [],
   "source": [
    "conv_date = []\n",
    "for date_converted in date:\n",
    "    date_con = datetime.datetime.fromtimestamp(\n",
    "        int(date_converted)\n",
    "    ).strftime('%Y-%m-%d %H:%M:%S')\n",
    "    print(date_con)\n",
    "    conv_date.append(date_con)"
   ]
  },
  {
   "cell_type": "code",
   "execution_count": null,
   "id": "eb4c9827",
   "metadata": {},
   "outputs": [],
   "source": [
    "list_name_date = conv_date\n",
    "df_date = pd.DataFrame (list_name_date, columns = ['date'])"
   ]
  },
  {
   "cell_type": "code",
   "execution_count": null,
   "id": "b0685842",
   "metadata": {},
   "outputs": [],
   "source": [
    "list_name_ada = ada_s0\n",
    "df_ada = pd.DataFrame (list_name_ada, columns = ['ADA'])"
   ]
  },
  {
   "cell_type": "code",
   "execution_count": null,
   "id": "59b05db2",
   "metadata": {},
   "outputs": [],
   "source": [
    "list_name_eth = eth_s0\n",
    "df_eth = pd.DataFrame (list_name_eth, columns = ['ETH'])"
   ]
  },
  {
   "cell_type": "code",
   "execution_count": null,
   "id": "08bb937d",
   "metadata": {},
   "outputs": [],
   "source": [
    "list_name_btc = btc_s0\n",
    "df_btc = pd.DataFrame (list_name_btc, columns = ['BTC'])"
   ]
  },
  {
   "cell_type": "code",
   "execution_count": null,
   "id": "34d6e0e4",
   "metadata": {},
   "outputs": [],
   "source": [
    "dataset = pd.concat([df_date, df_ada, df_eth, df_btc], axis=1)"
   ]
  },
  {
   "cell_type": "code",
   "execution_count": null,
   "id": "3a85d04b",
   "metadata": {},
   "outputs": [],
   "source": [
    "dataset = dataset.set_index('date')"
   ]
  },
  {
   "cell_type": "markdown",
   "id": "177d2f0f",
   "metadata": {},
   "source": [
    "Gathering Data (Benchmark)"
   ]
  },
  {
   "cell_type": "code",
   "execution_count": null,
   "id": "57872fd2",
   "metadata": {},
   "outputs": [],
   "source": [
    "from pathlib import Path\n",
    "import pandas as pd\n",
    "import numpy as np"
   ]
  },
  {
   "cell_type": "code",
   "execution_count": null,
   "id": "d8647d22",
   "metadata": {},
   "outputs": [],
   "source": [
    "data = Path(\"Historical_data.csv\")"
   ]
  },
  {
   "cell_type": "code",
   "execution_count": null,
   "id": "3948acf9",
   "metadata": {},
   "outputs": [],
   "source": [
    "benchmark_df = pd.read_csv(data, index_col = 'Date', infer_datetime_format=True, parse_dates=True)"
   ]
  },
  {
   "cell_type": "code",
   "execution_count": null,
   "id": "ff215daa",
   "metadata": {},
   "outputs": [],
   "source": [
    "benchmark_df = benchmark_df.sort_values(['Date'], ascending = True)"
   ]
  },
  {
   "cell_type": "code",
   "execution_count": null,
   "id": "b30ba033",
   "metadata": {},
   "outputs": [],
   "source": [
    "a = benchmark_df['Close/Last']"
   ]
  },
  {
   "cell_type": "code",
   "execution_count": null,
   "id": "6e6e4aba",
   "metadata": {},
   "outputs": [],
   "source": [
    "CIX100_prices = benchmark_df.drop(columns=['Volume', 'Open', 'High', 'Low'])\n",
    "CIX100_std = CIX100_prices.std\n",
    "CIX100_std()"
   ]
  },
  {
   "cell_type": "code",
   "execution_count": null,
   "id": "9fb94021",
   "metadata": {},
   "outputs": [],
   "source": [
    "CIX100_sharpe = (CIX100_prices.mean() * 252) / (CIX100_std() * np.sqrt(252))\n",
    "CIX100_sharpe"
   ]
  },
  {
   "cell_type": "code",
   "execution_count": null,
   "id": "2e49be1a",
   "metadata": {},
   "outputs": [],
   "source": [
    "t1 = dataset[[\"BTC\",\"ETH\",\"ADA\"]]"
   ]
  },
  {
   "cell_type": "code",
   "execution_count": null,
   "id": "74905b81",
   "metadata": {},
   "outputs": [],
   "source": [
    "tpct = dataset[[\"BTC\",\"ETH\",\"ADA\"]].pct_change()\n",
    "tmean = dataset[[\"BTC\",\"ETH\",\"ADA\"]].mean\n",
    "tstd = dataset[[\"BTC\",\"ETH\",\"ADA\"]].std"
   ]
  },
  {
   "cell_type": "code",
   "execution_count": null,
   "id": "e88c6d5e",
   "metadata": {},
   "outputs": [],
   "source": [
    "from MCForecastTools import MCSimulation"
   ]
  },
  {
   "cell_type": "code",
   "execution_count": null,
   "id": "3092ec42",
   "metadata": {},
   "outputs": [],
   "source": [
    "CIX100_prices.rename(columns={'Close/Last':\"Close\"})\n",
    "CIX100_prices.columns = pd.MultiIndex.from_product([CIX100_prices.columns,['close']]) "
   ]
  },
  {
   "cell_type": "code",
   "execution_count": null,
   "id": "39f7358c",
   "metadata": {},
   "outputs": [],
   "source": [
    "num_sims = 1000\n",
    "\n",
    "MC_CRYPTO = MCSimulation(\n",
    "    portfolio_data = CIX100_prices,\n",
    "    num_simulation = num_sims,\n",
    "    num_trading_days = 252*5\n",
    ")"
   ]
  },
  {
   "cell_type": "code",
   "execution_count": null,
   "id": "a1be15c8",
   "metadata": {},
   "outputs": [],
   "source": [
    "MC_CRYPTO.calc_cumulative_return()"
   ]
  },
  {
   "cell_type": "code",
   "execution_count": null,
   "id": "4eb62ff4-5bd0-4213-bd87-cef3a6f9ec29",
   "metadata": {},
   "outputs": [],
   "source": [
    "simulated_returns_data = {\n",
    "    \"mean\": list(MC_CRYPTO.simulated_return.mean(axis=1)),\n",
    "    \"median\": list(MC_CRYPTO.simulated_return.median(axis=1)),\n",
    "    \"min\": list(MC_CRYPTO.simulated_return.min(axis=1)),\n",
    "    \"max\": list(MC_CRYPTO.simulated_return.max(axis=1))\n",
    "}\n",
    "\n",
    "# Create a DataFrame with the summary statistics\n",
    "df_simulated_returns = pd.DataFrame(simulated_returns_data)\n",
    "\n",
    "# Display sample data\n",
    "df_simulated_returns.head()"
   ]
  },
  {
   "cell_type": "code",
   "execution_count": null,
   "id": "31d9dfac",
   "metadata": {},
   "outputs": [],
   "source": [
    "df_simulated_returns[['mean', 'median']].plot(title=\"Simulated Cumulative Return Behavior of CIX100 Over the Next Five Years\")"
   ]
  },
  {
   "cell_type": "code",
   "execution_count": null,
   "id": "d8a4b51e",
   "metadata": {},
   "outputs": [],
   "source": [
    "cumulative_pnl = invested_amt * df_simulated_returns\n",
    "cumulative_pnl[['mean','median']].plot(title=\"Simulated Outcomes Behavior of CIX100 Stock Over the Next 5 Years\")"
   ]
  },
  {
   "cell_type": "code",
   "execution_count": null,
   "id": "0882b932-bd78-4a74-b345-ceb76d4500bd",
   "metadata": {},
   "outputs": [],
   "source": [
    "simulated_returns_data = {\n",
    "    \"mean\": list(MC_CRYPTO.simulated_return.mean(axis=1)),\n",
    "    \"median\": list(MC_CRYPTO.simulated_return.median(axis=1)),\n",
    "    \"min\": list(MC_CRYPTO.simulated_return.min(axis=1)),\n",
    "    \"max\": list(MC_CRYPTO.simulated_return.max(axis=1))\n",
    "}"
   ]
  },
  {
   "cell_type": "code",
   "execution_count": null,
   "id": "5bef77bc",
   "metadata": {},
   "outputs": [],
   "source": [
    "investment_1 = MC_CRYPTO.summarize_cumulative_return()\n",
    "ci_lower = round(investment_1[8]*(invested_amt),2)\n",
    "ci_upper = round(investment_1[9]*(invested_amt),2)\n",
    "\n",
    "print(f\"There is a 95% chance that an initial investment of ${invested_amt} in {coin_prompt}\"\n",
    "      f\" over the next 5 years will end within in the range of\"\n",
    "      f\" ${ci_lower} and ${ci_upper}.\")\n",
    "\n",
    "investment_1.plot_simulation()"
   ]
  },
  {
   "cell_type": "code",
   "execution_count": null,
   "id": "9a4d68e8-adba-4acc-94d7-eb242527ff4d",
   "metadata": {},
   "outputs": [],
   "source": [
    "investment_2 = MC_CRYPTO.summarize_cumulative_return()\n",
    "ci_lower = round(investment_2[8]*(remainder_prompt),2)\n",
    "ci_upper = round(investment_2[9]*(remainder_prompt),2)\n",
    "\n",
    "print(f\"There is a 95% chance that an initial investment of ${remainder_prompt} in {select_coin}\"\n",
    "      f\" over the next 5 years will end within in the range of\"\n",
    "      f\" ${ci_lower} and ${ci_upper}.\")"
   ]
  },
  {
   "cell_type": "code",
   "execution_count": null,
   "id": "1e1c5c76-e5b1-4fdf-9fb3-90ec491928e0",
   "metadata": {},
   "outputs": [],
   "source": []
  },
  {
   "cell_type": "code",
   "execution_count": null,
   "id": "3f818ba0-a4e8-4110-bfde-86a716ceeab0",
   "metadata": {},
   "outputs": [],
   "source": []
  }
 ],
 "metadata": {
  "kernelspec": {
   "display_name": "Python 3",
   "language": "python",
   "name": "python3"
  },
  "language_info": {
   "codemirror_mode": {
    "name": "ipython",
    "version": 3
   },
   "file_extension": ".py",
   "mimetype": "text/x-python",
   "name": "python",
   "nbconvert_exporter": "python",
   "pygments_lexer": "ipython3",
   "version": "3.7.10"
  }
 },
 "nbformat": 4,
 "nbformat_minor": 5
}
