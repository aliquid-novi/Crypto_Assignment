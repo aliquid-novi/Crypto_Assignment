{
 "cells": [
  {
   "cell_type": "code",
   "execution_count": 1,
   "id": "c625995a-d622-494d-bf75-d2cdf8eec9c6",
   "metadata": {},
   "outputs": [],
   "source": [
    "# Initial imports\n",
    "import os\n",
    "import requests\n",
    "import pandas as pd\n",
    "from dotenv import load_dotenv\n",
    "#from MCForecastTools import MCSimulation\n",
    "import cryptocompare as cryptoapi \n",
    "\n",
    "%matplotlib inline"
   ]
  },
  {
   "cell_type": "code",
   "execution_count": 2,
   "id": "04124e32-465e-4bf4-ba23-d966f85b288b",
   "metadata": {},
   "outputs": [],
   "source": [
    "btc_url = \"https://min-api.cryptocompare.com/data/v2/histoday?fsym=BTC&tsym=USD&limit=30\"\n",
    "#eth_url = \"https://min-api.cryptocompare.com/data/v2/histoday?fsym=ETH&tsym=USD&limit=365\"\n",
    "#ada_url = \"https://min-api.cryptocompare.com/data/v2/histoday?fsym=ETH&tsym=USD&limit=365\"\n",
    "btc_data = requests.get(btc_url).json()\n",
    "#eth_data = requests.get(eth_url).json() \n",
    "#ada_data = requests.get(ada_url).json() "
   ]
  },
  {
   "cell_type": "code",
   "execution_count": 3,
   "id": "00c2cfba-d689-4174-b9dd-419c6062fcdb",
   "metadata": {},
   "outputs": [],
   "source": [
    "import json"
   ]
  },
  {
   "cell_type": "code",
   "execution_count": null,
   "id": "39fbc0a8-b31f-46e5-9746-3fe2e34a10be",
   "metadata": {},
   "outputs": [],
   "source": [
    "print(json.dumps(btc_data, indent=4))"
   ]
  },
  {
   "cell_type": "code",
   "execution_count": 5,
   "id": "aa807e9c-1005-44c6-8407-3c9f1875f538",
   "metadata": {},
   "outputs": [],
   "source": [
    "btc_s0= []\n",
    "date = []\n",
    "for price in range(0,len(btc_data['Data']['Data'])):\n",
    "    temp= btc_data['Data']['Data'][price]['close']\n",
    "    temp_date = btc_data['Data']['Data'][price]['time']\n",
    "    btc_s0.append(temp)\n",
    "    date.append(temp_date)"
   ]
  },
  {
   "cell_type": "code",
   "execution_count": 7,
   "id": "04b91ebe-19b1-4776-af6e-9211c65454e1",
   "metadata": {},
   "outputs": [],
   "source": [
    "import datetime"
   ]
  },
  {
   "cell_type": "code",
   "execution_count": 8,
   "id": "96f9f0af-3d1b-4278-9ea0-4bc9944ecdd0",
   "metadata": {},
   "outputs": [
    {
     "name": "stdout",
     "output_type": "stream",
     "text": [
      "2021-10-19 11:00:00\n",
      "2021-10-20 11:00:00\n",
      "2021-10-21 11:00:00\n",
      "2021-10-22 11:00:00\n",
      "2021-10-23 11:00:00\n",
      "2021-10-24 11:00:00\n",
      "2021-10-25 11:00:00\n",
      "2021-10-26 11:00:00\n",
      "2021-10-27 11:00:00\n",
      "2021-10-28 11:00:00\n",
      "2021-10-29 11:00:00\n",
      "2021-10-30 11:00:00\n",
      "2021-10-31 11:00:00\n",
      "2021-11-01 11:00:00\n",
      "2021-11-02 11:00:00\n",
      "2021-11-03 11:00:00\n",
      "2021-11-04 11:00:00\n",
      "2021-11-05 11:00:00\n",
      "2021-11-06 11:00:00\n",
      "2021-11-07 11:00:00\n",
      "2021-11-08 11:00:00\n",
      "2021-11-09 11:00:00\n",
      "2021-11-10 11:00:00\n",
      "2021-11-11 11:00:00\n",
      "2021-11-12 11:00:00\n",
      "2021-11-13 11:00:00\n",
      "2021-11-14 11:00:00\n",
      "2021-11-15 11:00:00\n",
      "2021-11-16 11:00:00\n",
      "2021-11-17 11:00:00\n",
      "2021-11-18 11:00:00\n"
     ]
    }
   ],
   "source": [
    "conv_date = []\n",
    "for date_converted in date:\n",
    "    date_con = datetime.datetime.fromtimestamp(\n",
    "        int(date_converted)\n",
    "    ).strftime('%Y-%m-%d %H:%M:%S')\n",
    "    print(date_con)\n",
    "    conv_date.append(date_con)"
   ]
  },
  {
   "cell_type": "code",
   "execution_count": 9,
   "id": "7dd2627e-352d-4864-ad6d-eef0a138a0f1",
   "metadata": {},
   "outputs": [
    {
     "data": {
      "text/plain": [
       "['2021-10-19 11:00:00',\n",
       " '2021-10-20 11:00:00',\n",
       " '2021-10-21 11:00:00',\n",
       " '2021-10-22 11:00:00',\n",
       " '2021-10-23 11:00:00',\n",
       " '2021-10-24 11:00:00',\n",
       " '2021-10-25 11:00:00',\n",
       " '2021-10-26 11:00:00',\n",
       " '2021-10-27 11:00:00',\n",
       " '2021-10-28 11:00:00',\n",
       " '2021-10-29 11:00:00',\n",
       " '2021-10-30 11:00:00',\n",
       " '2021-10-31 11:00:00',\n",
       " '2021-11-01 11:00:00',\n",
       " '2021-11-02 11:00:00',\n",
       " '2021-11-03 11:00:00',\n",
       " '2021-11-04 11:00:00',\n",
       " '2021-11-05 11:00:00',\n",
       " '2021-11-06 11:00:00',\n",
       " '2021-11-07 11:00:00',\n",
       " '2021-11-08 11:00:00',\n",
       " '2021-11-09 11:00:00',\n",
       " '2021-11-10 11:00:00',\n",
       " '2021-11-11 11:00:00',\n",
       " '2021-11-12 11:00:00',\n",
       " '2021-11-13 11:00:00',\n",
       " '2021-11-14 11:00:00',\n",
       " '2021-11-15 11:00:00',\n",
       " '2021-11-16 11:00:00',\n",
       " '2021-11-17 11:00:00',\n",
       " '2021-11-18 11:00:00']"
      ]
     },
     "execution_count": 9,
     "metadata": {},
     "output_type": "execute_result"
    }
   ],
   "source": [
    "conv_date"
   ]
  },
  {
   "cell_type": "code",
   "execution_count": null,
   "id": "07a623f8-6f88-4ffe-b454-f2f5b76d4c00",
   "metadata": {},
   "outputs": [],
   "source": [
    "btc_df = pd."
   ]
  },
  {
   "cell_type": "code",
   "execution_count": null,
   "id": "70e43fe2-41ec-43c2-bc45-0c057a4bd366",
   "metadata": {},
   "outputs": [],
   "source": []
  },
  {
   "cell_type": "code",
   "execution_count": null,
   "id": "4d56eaa9-1841-47a4-ae33-86c113f13a8b",
   "metadata": {},
   "outputs": [],
   "source": []
  },
  {
   "cell_type": "code",
   "execution_count": null,
   "id": "8d3cd806-2de6-4887-801f-106946ed377a",
   "metadata": {},
   "outputs": [],
   "source": []
  },
  {
   "cell_type": "code",
   "execution_count": null,
   "id": "ae6e7ecb-1237-4426-9023-0bda5f49b265",
   "metadata": {},
   "outputs": [],
   "source": []
  }
 ],
 "metadata": {
  "kernelspec": {
   "display_name": "Python 3",
   "language": "python",
   "name": "python3"
  },
  "language_info": {
   "codemirror_mode": {
    "name": "ipython",
    "version": 3
   },
   "file_extension": ".py",
   "mimetype": "text/x-python",
   "name": "python",
   "nbconvert_exporter": "python",
   "pygments_lexer": "ipython3",
   "version": "3.7.10"
  }
 },
 "nbformat": 4,
 "nbformat_minor": 5
}
